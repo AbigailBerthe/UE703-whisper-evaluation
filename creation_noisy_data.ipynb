{
  "nbformat": 4,
  "nbformat_minor": 0,
  "metadata": {
    "colab": {
      "provenance": []
    },
    "kernelspec": {
      "name": "python3",
      "display_name": "Python 3"
    },
    "language_info": {
      "name": "python"
    }
  },
  "cells": [
    {
      "cell_type": "code",
      "source": [
        "!pip install soundfile #to create and save sound files"
      ],
      "metadata": {
        "colab": {
          "base_uri": "https://localhost:8080/"
        },
        "id": "pVrnTEQyVkoq",
        "outputId": "21a2690d-b497-4ed0-dcd5-e0df824e399e"
      },
      "execution_count": 13,
      "outputs": [
        {
          "output_type": "stream",
          "name": "stdout",
          "text": [
            "Requirement already satisfied: soundfile in /usr/local/lib/python3.10/dist-packages (0.12.1)\n",
            "Requirement already satisfied: cffi>=1.0 in /usr/local/lib/python3.10/dist-packages (from soundfile) (1.16.0)\n",
            "Requirement already satisfied: pycparser in /usr/local/lib/python3.10/dist-packages (from cffi>=1.0->soundfile) (2.21)\n"
          ]
        }
      ]
    },
    {
      "cell_type": "code",
      "source": [
        "import librosa\n",
        "import numpy as np\n",
        "import os\n",
        "import re\n",
        "import soundfile as sf"
      ],
      "metadata": {
        "id": "vU89-FknMBcS"
      },
      "execution_count": 14,
      "outputs": []
    },
    {
      "cell_type": "code",
      "source": [
        "from google.colab import drive\n",
        "drive.mount('/content/drive/')"
      ],
      "metadata": {
        "colab": {
          "base_uri": "https://localhost:8080/"
        },
        "id": "N2a-xf4lN0NF",
        "outputId": "9844050d-2853-4705-89a4-b9c0b641fe9f"
      },
      "execution_count": 2,
      "outputs": [
        {
          "output_type": "stream",
          "name": "stdout",
          "text": [
            "Mounted at /content/drive/\n"
          ]
        }
      ]
    },
    {
      "cell_type": "code",
      "execution_count": 10,
      "metadata": {
        "id": "YF1wMRhiwrSV"
      },
      "outputs": [],
      "source": [
        "def merge_audio(speech_file, noise_file, snr):\n",
        "    \"\"\"\n",
        "    merge two different audios together, with a specified snr\n",
        "\n",
        "    :param speech_file: link to the speech file\n",
        "    :param noise_file: link to the noise file\n",
        "    :param snr: Signal to noise ratio in dB\n",
        "    \"\"\"\n",
        "    # load audio speech and noise\n",
        "    speech, sr_speech = librosa.load(speech_file, sr=16000)\n",
        "    noise, sr_noise = librosa.load(noise_file, sr=16000)\n",
        "\n",
        "    # Cut noise file to speech file length\n",
        "    min_len = len(speech)\n",
        "    noise = noise[:min_len]\n",
        "\n",
        "    # Reduce or increase noise to get noise\n",
        "    rms_speech = np.sqrt(np.mean(speech**2))\n",
        "    rms_noise = np.sqrt(np.mean(noise**2))\n",
        "    desired_rms_noise = rms_speech / (10**(snr / 20))\n",
        "    scaled_noise = noise * (desired_rms_noise / rms_noise)\n",
        "\n",
        "    # merge speech and noise\n",
        "    mixed_audio = speech + scaled_noise\n",
        "\n",
        "    return mixed_audio, sr_speech\n"
      ]
    },
    {
      "cell_type": "code",
      "source": [
        "pattern = re.compile(r'concatenated_(.*).wav')\n",
        "for f_noise in os.listdir('/content/drive/My Drive/different_sounds'):\n",
        "    match = pattern.search(f_noise)\n",
        "    noise_name = match.group(1)\n",
        "    print(noise_name)\n",
        "    for f_speech in os.listdir('/content/drive/My Drive/wav_data'):\n",
        "        speech_file = f'/content/drive/My Drive/wav_data/{f_speech}'\n",
        "        noise_file = f'/content/drive/My Drive/different_sounds/{f_noise}'\n",
        "        snr = 10  # SNR en dB\n",
        "\n",
        "        mixed_audio, sampling_rate = merge_audio(speech_file, noise_file, snr)\n",
        "\n",
        "        output_file = f'/content/drive/My Drive/noisy_speech/{noise_name}/{f_speech}'\n",
        "        sf.write(output_file, mixed_audio, sampling_rate)"
      ],
      "metadata": {
        "colab": {
          "base_uri": "https://localhost:8080/"
        },
        "id": "QXelwwdOL8kb",
        "outputId": "d0809b01-bcd1-4041-d6fd-5b89a73d48b7"
      },
      "execution_count": 16,
      "outputs": [
        {
          "output_type": "stream",
          "name": "stdout",
          "text": [
            "cat\n",
            "chainsaw\n",
            "crickets\n",
            "crying_baby\n",
            "engine\n",
            "glass_breaking\n",
            "helicopter\n",
            "keyboard_typing\n",
            "laughing\n",
            "vacuum_cleaner\n"
          ]
        }
      ]
    }
  ]
}